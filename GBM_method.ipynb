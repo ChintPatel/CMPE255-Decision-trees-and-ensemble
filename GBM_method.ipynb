{
  "nbformat": 4,
  "nbformat_minor": 0,
  "metadata": {
    "colab": {
      "provenance": [],
      "gpuType": "V28",
      "authorship_tag": "ABX9TyOGRCk6HBWVmCWy9f0TmhKS",
      "include_colab_link": true
    },
    "kernelspec": {
      "name": "python3",
      "display_name": "Python 3"
    },
    "language_info": {
      "name": "python"
    },
    "accelerator": "TPU"
  },
  "cells": [
    {
      "cell_type": "markdown",
      "metadata": {
        "id": "view-in-github",
        "colab_type": "text"
      },
      "source": [
        "<a href=\"https://colab.research.google.com/github/ChintPatel/CMPE255-Decision-trees-and-ensemble/blob/main/GBM_method.ipynb\" target=\"_parent\"><img src=\"https://colab.research.google.com/assets/colab-badge.svg\" alt=\"Open In Colab\"/></a>"
      ]
    },
    {
      "cell_type": "code",
      "source": [
        "import numpy as np\n",
        "import pandas as pd\n",
        "from sklearn.datasets import fetch_california_housing\n",
        "from sklearn.model_selection import train_test_split\n",
        "from sklearn.metrics import mean_squared_error\n",
        "from sklearn.tree import DecisionTreeRegressor\n",
        "\n",
        "class GradientBoostingRegressorFromScratch:\n",
        "    def __init__(self, n_estimators=50, learning_rate=0.1, max_depth=3):\n",
        "        self.n_estimators = n_estimators\n",
        "        self.learning_rate = learning_rate\n",
        "        self.max_depth = max_depth\n",
        "        self.models = []\n",
        "        self.initial_prediction = None\n",
        "\n",
        "    def fit(self, X, y):\n",
        "        # Initialize the prediction with the mean of y\n",
        "        self.initial_prediction = np.mean(y)\n",
        "        residuals = y - self.initial_prediction\n",
        "\n",
        "        for _ in range(self.n_estimators):\n",
        "            # Fit a decision tree to the residuals\n",
        "            tree = DecisionTreeRegressor(max_depth=self.max_depth)\n",
        "            tree.fit(X, residuals)\n",
        "            self.models.append(tree)\n",
        "\n",
        "            # Update residuals\n",
        "            residuals -= self.learning_rate * tree.predict(X)\n",
        "\n",
        "    def predict(self, X):\n",
        "        # Start with the initial prediction\n",
        "        y_pred = np.full(X.shape[0], self.initial_prediction)\n",
        "\n",
        "        # Add contributions from each tree\n",
        "        for tree in self.models:\n",
        "            y_pred += self.learning_rate * tree.predict(X)\n",
        "\n",
        "        return y_pred\n",
        "\n",
        "# Load the California Housing dataset\n",
        "data = fetch_california_housing(as_frame=True)\n",
        "df = data.frame\n",
        "X = df.drop(columns=[\"MedHouseVal\"])  # Features\n",
        "y = df[\"MedHouseVal\"]  # Target\n",
        "\n",
        "# Split into train and test sets\n",
        "X_train, X_test, y_train, y_test = train_test_split(X, y, test_size=0.2, random_state=42)\n",
        "\n",
        "# Train the GBM from scratch\n",
        "gbm = GradientBoostingRegressorFromScratch(n_estimators=50, learning_rate=0.1, max_depth=3)\n",
        "gbm.fit(X_train.values, y_train.values)\n",
        "\n",
        "# Make predictions\n",
        "y_pred = gbm.predict(X_test.values)\n",
        "\n",
        "# Evaluate the model\n",
        "mse = mean_squared_error(y_test, y_pred)\n",
        "print(f\"Mean Squared Error: {mse:.4f}\")\n"
      ],
      "metadata": {
        "colab": {
          "base_uri": "https://localhost:8080/"
        },
        "id": "LPrCl1dGn6nQ",
        "outputId": "4551e228-e6d1-4045-dfc2-c0f6b5533e8c"
      },
      "execution_count": 1,
      "outputs": [
        {
          "output_type": "stream",
          "name": "stdout",
          "text": [
            "Mean Squared Error: 0.3362\n"
          ]
        }
      ]
    }
  ]
}