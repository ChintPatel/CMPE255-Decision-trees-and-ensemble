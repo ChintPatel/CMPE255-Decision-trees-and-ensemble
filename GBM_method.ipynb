{
  "nbformat": 4,
  "nbformat_minor": 0,
  "metadata": {
    "colab": {
      "provenance": [],
      "authorship_tag": "ABX9TyO0RbIA8VXO632m5wvkwCwj",
      "include_colab_link": true
    },
    "kernelspec": {
      "name": "python3",
      "display_name": "Python 3"
    },
    "language_info": {
      "name": "python"
    }
  },
  "cells": [
    {
      "cell_type": "markdown",
      "metadata": {
        "id": "view-in-github",
        "colab_type": "text"
      },
      "source": [
        "<a href=\"https://colab.research.google.com/github/ChintPatel/CMPE255-Decision-trees-and-ensemble/blob/main/GBM_method.ipynb\" target=\"_parent\"><img src=\"https://colab.research.google.com/assets/colab-badge.svg\" alt=\"Open In Colab\"/></a>"
      ]
    },
    {
      "cell_type": "code",
      "execution_count": 1,
      "metadata": {
        "colab": {
          "base_uri": "https://localhost:8080/"
        },
        "id": "TXGTjfUcRGal",
        "outputId": "7bcc5c4c-f030-4076-9cb1-875a50511635"
      },
      "outputs": [
        {
          "output_type": "stream",
          "name": "stdout",
          "text": [
            "Training MSE: 128.60308249922377\n",
            "Test MSE: 258.10659373268237\n"
          ]
        }
      ],
      "source": [
        "# Importing necessary libraries\n",
        "import numpy as np\n",
        "import pandas as pd\n",
        "from sklearn.datasets import make_regression\n",
        "from sklearn.model_selection import train_test_split\n",
        "from sklearn.metrics import mean_squared_error\n",
        "from sklearn.tree import DecisionTreeRegressor\n",
        "\n",
        "# Generate a synthetic dataset\n",
        "X, y = make_regression(n_samples=1000, n_features=5, noise=0.1, random_state=42)\n",
        "X_train, X_test, y_train, y_test = train_test_split(X, y, test_size=0.2, random_state=42)\n",
        "\n",
        "# Gradient Boosting Machine implementation\n",
        "class GradientBoostingRegressor:\n",
        "    def __init__(self, n_estimators=100, learning_rate=0.1, max_depth=3):\n",
        "        self.n_estimators = n_estimators\n",
        "        self.learning_rate = learning_rate\n",
        "        self.max_depth = max_depth\n",
        "        self.trees = []\n",
        "\n",
        "    def fit(self, X, y):\n",
        "        # Initialize residuals and predictions\n",
        "        self.base_prediction = np.mean(y)\n",
        "        predictions = np.full_like(y, self.base_prediction, dtype=np.float64)\n",
        "\n",
        "        for _ in range(self.n_estimators):\n",
        "            residuals = y - predictions\n",
        "\n",
        "            # Train a decision tree on the residuals\n",
        "            tree = DecisionTreeRegressor(max_depth=self.max_depth)\n",
        "            tree.fit(X, residuals)\n",
        "            self.trees.append(tree)\n",
        "\n",
        "            # Update predictions\n",
        "            predictions += self.learning_rate * tree.predict(X)\n",
        "\n",
        "    def predict(self, X):\n",
        "        # Start with the base prediction\n",
        "        predictions = np.full((X.shape[0],), self.base_prediction, dtype=np.float64)\n",
        "        for tree in self.trees:\n",
        "            predictions += self.learning_rate * tree.predict(X)\n",
        "        return predictions\n",
        "\n",
        "# Train the GBM model\n",
        "gbm = GradientBoostingRegressor(n_estimators=50, learning_rate=0.1, max_depth=3)\n",
        "gbm.fit(X_train, y_train)\n",
        "\n",
        "# Make predictions and evaluate\n",
        "train_predictions = gbm.predict(X_train)\n",
        "test_predictions = gbm.predict(X_test)\n",
        "\n",
        "train_mse = mean_squared_error(y_train, train_predictions)\n",
        "test_mse = mean_squared_error(y_test, test_predictions)\n",
        "\n",
        "print(f\"Training MSE: {train_mse}\")\n",
        "print(f\"Test MSE: {test_mse}\")\n"
      ]
    }
  ]
}