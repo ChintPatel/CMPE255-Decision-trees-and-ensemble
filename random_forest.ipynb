{
  "cells": [
    {
      "cell_type": "markdown",
      "metadata": {
        "id": "view-in-github",
        "colab_type": "text"
      },
      "source": [
        "<a href=\"https://colab.research.google.com/github/ChintPatel/CMPE255-Decision-trees-and-ensemble/blob/main/random_forest.ipynb\" target=\"_parent\"><img src=\"https://colab.research.google.com/assets/colab-badge.svg\" alt=\"Open In Colab\"/></a>"
      ]
    },
    {
      "cell_type": "markdown",
      "metadata": {
        "toc": true,
        "id": "w9eYCzrNSk3p"
      },
      "source": [
        "<h1>Table of Contents<span class=\"tocSkip\"></span></h1>\n",
        "<div class=\"toc\"><ul class=\"toc-item\"><li><span><a href=\"#Model-Definition\" data-toc-modified-id=\"Model-Definition-1\"><span class=\"toc-item-num\">1&nbsp;&nbsp;</span>Model Definition</a></span></li><li><span><a href=\"#Training-and-testing-on-Diabetes-Dataset\" data-toc-modified-id=\"Training-and-testing-on-Diabetes-Dataset-2\"><span class=\"toc-item-num\">2&nbsp;&nbsp;</span>Training and testing on Diabetes Dataset</a></span></li><li><span><a href=\"#Metrics\" data-toc-modified-id=\"Metrics-3\"><span class=\"toc-item-num\">3&nbsp;&nbsp;</span>Metrics</a></span></li></ul></div>"
      ]
    },
    {
      "cell_type": "code",
      "execution_count": 15,
      "metadata": {
        "ExecuteTime": {
          "end_time": "2020-04-12T16:49:27.604267Z",
          "start_time": "2020-04-12T16:49:25.091457Z"
        },
        "id": "O97FnIjzSk3s"
      },
      "outputs": [],
      "source": [
        "import numpy as np\n",
        "\n",
        "from sklearn import datasets\n",
        "from sklearn.model_selection import train_test_split\n",
        "from sklearn.metrics import precision_score, recall_score, f1_score\n",
        "\n",
        "import pandas as pd\n",
        "\n",
        "from collections import Counter\n",
        "from sklearn.tree import DecisionTreeClassifier\n"
      ]
    },
    {
      "cell_type": "markdown",
      "metadata": {
        "id": "NzDI-55FSk3t"
      },
      "source": [
        "# Model Definition\n",
        "\n",
        "Using previously written Decision tree"
      ]
    },
    {
      "cell_type": "code",
      "execution_count": 16,
      "metadata": {
        "ExecuteTime": {
          "end_time": "2020-04-12T16:49:27.617602Z",
          "start_time": "2020-04-12T16:49:27.610032Z"
        },
        "id": "HPruQ1ySSk3u"
      },
      "outputs": [],
      "source": [
        "def bootstrap_sample(X, y):\n",
        "    n_samples = X.shape[0]\n",
        "    idxs = np.random.choice(n_samples, n_samples, replace=True)\n",
        "    return X[idxs], y[idxs]\n",
        "\n",
        "\n",
        "def most_common_label(y):\n",
        "    counter = Counter(y)\n",
        "    most_common = counter.most_common(1)[0][0]\n",
        "    return most_common"
      ]
    },
    {
      "cell_type": "code",
      "execution_count": 24,
      "metadata": {
        "ExecuteTime": {
          "end_time": "2020-04-12T16:49:27.819326Z",
          "start_time": "2020-04-12T16:49:27.621157Z"
        },
        "id": "iKT9_PL_Sk3u"
      },
      "outputs": [],
      "source": [
        "class RandomForest:\n",
        "    def __init__(self, n_trees, max_depth, n_feats, min_samples_split=2):\n",
        "        self.n_trees = n_trees\n",
        "        self.max_depth = max_depth\n",
        "        self.n_feats = n_feats\n",
        "        self.min_samples_split = min_samples_split\n",
        "        self.trees = []\n",
        "\n",
        "    def bootstrap_sample(self, X, y):\n",
        "        # Generate a bootstrap sample\n",
        "        n_samples = X.shape[0]\n",
        "        idxs = np.random.choice(n_samples, n_samples, replace=True)\n",
        "        return X[idxs], y[idxs]\n",
        "\n",
        "    def fit(self, X, y):\n",
        "        self.trees = []\n",
        "        for _ in range(self.n_trees):\n",
        "            # Create a decision tree\n",
        "            tree = DecisionTreeClassifier(max_depth=self.max_depth)\n",
        "            X_samp, y_samp = self.bootstrap_sample(X, y)\n",
        "            tree.fit(X_samp, y_samp)\n",
        "            self.trees.append(tree)\n",
        "\n",
        "    def predict(self, X):\n",
        "        # Aggregate predictions from all trees\n",
        "        tree_preds = np.array([tree.predict(X) for tree in self.trees])\n",
        "        return np.apply_along_axis(lambda x: Counter(x).most_common(1)[0][0], axis=0, arr=tree_preds)"
      ]
    },
    {
      "cell_type": "code",
      "execution_count": 25,
      "metadata": {
        "ExecuteTime": {
          "end_time": "2020-04-12T16:49:27.994854Z",
          "start_time": "2020-04-12T16:49:27.833497Z"
        },
        "id": "zEkHr40PSk3v"
      },
      "outputs": [],
      "source": [
        "def accuracy(y_true, y_pred):\n",
        "    accuracy = np.sum(y_true == y_pred) / len(y_true)\n",
        "    return accuracy"
      ]
    },
    {
      "cell_type": "markdown",
      "metadata": {
        "id": "MlGAvtk3Sk3w"
      },
      "source": [
        "# Training and testing on Diabetes Dataset"
      ]
    },
    {
      "cell_type": "code",
      "execution_count": 26,
      "metadata": {
        "ExecuteTime": {
          "end_time": "2020-04-12T16:49:29.037211Z",
          "start_time": "2020-04-12T16:49:28.003482Z"
        },
        "id": "6EAYhpMJSk3x"
      },
      "outputs": [],
      "source": [
        "cols = [\"Pregnancies\", \"Glucose\", \"BloodPressure\", \"SkinThickness\",\n",
        "        \"Insulin\", \"BMI\", \"DiabetesPedigreeFunction\", \"Age\", \"Outcome\"]\n",
        "url = \"https://gist.githubusercontent.com/ktisha/c21e73a1bd1700294ef790c56c8aec1f/raw/819b69b5736821ccee93d05b51de0510bea00294/pima-indians-diabetes.csv\"\n",
        "diabetes_data = pd.read_csv(url, skiprows=9, header=None, names=cols)"
      ]
    },
    {
      "cell_type": "code",
      "execution_count": 27,
      "metadata": {
        "ExecuteTime": {
          "end_time": "2020-04-12T16:49:29.087001Z",
          "start_time": "2020-04-12T16:49:29.044736Z"
        },
        "colab": {
          "base_uri": "https://localhost:8080/"
        },
        "id": "A45y_C7pSk3x",
        "outputId": "1588a7f1-31e3-49a1-d52d-2098671febfb"
      },
      "outputs": [
        {
          "output_type": "execute_result",
          "data": {
            "text/plain": [
              "(768, 9)"
            ]
          },
          "metadata": {},
          "execution_count": 27
        }
      ],
      "source": [
        "diabetes_data.shape"
      ]
    },
    {
      "cell_type": "code",
      "execution_count": 28,
      "metadata": {
        "ExecuteTime": {
          "end_time": "2020-04-12T16:49:29.305869Z",
          "start_time": "2020-04-12T16:49:29.103088Z"
        },
        "id": "O0kQE1eDSk3z"
      },
      "outputs": [],
      "source": [
        "X = diabetes_data[cols[:-1]].values\n",
        "y = diabetes_data[cols[-1]].values"
      ]
    },
    {
      "cell_type": "code",
      "execution_count": 29,
      "metadata": {
        "ExecuteTime": {
          "end_time": "2020-04-12T16:49:29.457842Z",
          "start_time": "2020-04-12T16:49:29.316553Z"
        },
        "id": "UjEnrx_iSk3z"
      },
      "outputs": [],
      "source": [
        "X_train, X_test, y_train, y_test = train_test_split(X, y, test_size=0.1, stratify=y, random_state=42)"
      ]
    },
    {
      "cell_type": "code",
      "execution_count": 30,
      "metadata": {
        "ExecuteTime": {
          "end_time": "2020-04-12T16:49:43.284602Z",
          "start_time": "2020-04-12T16:49:29.464289Z"
        },
        "id": "PpAfBddeSk3z"
      },
      "outputs": [],
      "source": [
        "rnd_clf = RandomForest(max_depth=10, n_trees=10, n_feats=6)\n",
        "rnd_clf.fit(X_train, y_train)\n",
        "y_pred = rnd_clf.predict(X_test)"
      ]
    },
    {
      "cell_type": "markdown",
      "metadata": {
        "id": "oQSwypSnSk30"
      },
      "source": [
        "# Metrics"
      ]
    },
    {
      "cell_type": "code",
      "execution_count": 31,
      "metadata": {
        "ExecuteTime": {
          "end_time": "2020-04-12T16:49:43.300402Z",
          "start_time": "2020-04-12T16:49:43.288586Z"
        },
        "colab": {
          "base_uri": "https://localhost:8080/"
        },
        "id": "As44f2h_Sk30",
        "outputId": "23e4b602-9f69-469e-d57a-335611e77f48"
      },
      "outputs": [
        {
          "output_type": "stream",
          "name": "stdout",
          "text": [
            "Accuracy: 0.7012987012987013\n"
          ]
        }
      ],
      "source": [
        "print(f\"Accuracy: {accuracy(y_test, y_pred)}\")"
      ]
    },
    {
      "cell_type": "code",
      "execution_count": 32,
      "metadata": {
        "ExecuteTime": {
          "end_time": "2020-04-12T16:49:43.470452Z",
          "start_time": "2020-04-12T16:49:43.306229Z"
        },
        "colab": {
          "base_uri": "https://localhost:8080/"
        },
        "id": "By-5b4DOSk30",
        "outputId": "599f0132-f8f0-4106-c2ab-b8edaab74199"
      },
      "outputs": [
        {
          "output_type": "stream",
          "name": "stdout",
          "text": [
            "Precision: 0.5833333333333334\n",
            "Recall: 0.5185185185185185\n",
            "F1-Score: 0.5490196078431373\n"
          ]
        }
      ],
      "source": [
        "print(f\"Precision: {precision_score(y_test, y_pred)}\")\n",
        "print(f\"Recall: {recall_score(y_test, y_pred)}\")\n",
        "print(f\"F1-Score: {f1_score(y_test, y_pred)}\")"
      ]
    }
  ],
  "metadata": {
    "kernelspec": {
      "display_name": "Python 3",
      "language": "python",
      "name": "python3"
    },
    "language_info": {
      "codemirror_mode": {
        "name": "ipython",
        "version": 3
      },
      "file_extension": ".py",
      "mimetype": "text/x-python",
      "name": "python",
      "nbconvert_exporter": "python",
      "pygments_lexer": "ipython3",
      "version": "3.7.6"
    },
    "toc": {
      "base_numbering": 1,
      "nav_menu": {},
      "number_sections": true,
      "sideBar": true,
      "skip_h1_title": false,
      "title_cell": "Table of Contents",
      "title_sidebar": "Contents",
      "toc_cell": true,
      "toc_position": {},
      "toc_section_display": true,
      "toc_window_display": false
    },
    "varInspector": {
      "cols": {
        "lenName": 16,
        "lenType": 16,
        "lenVar": 40
      },
      "kernels_config": {
        "python": {
          "delete_cmd_postfix": "",
          "delete_cmd_prefix": "del ",
          "library": "var_list.py",
          "varRefreshCmd": "print(var_dic_list())"
        },
        "r": {
          "delete_cmd_postfix": ") ",
          "delete_cmd_prefix": "rm(",
          "library": "var_list.r",
          "varRefreshCmd": "cat(var_dic_list()) "
        }
      },
      "types_to_exclude": [
        "module",
        "function",
        "builtin_function_or_method",
        "instance",
        "_Feature"
      ],
      "window_display": false
    },
    "colab": {
      "provenance": [],
      "include_colab_link": true
    }
  },
  "nbformat": 4,
  "nbformat_minor": 0
}